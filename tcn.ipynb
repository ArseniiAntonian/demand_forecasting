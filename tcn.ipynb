{
 "cells": [
  {
   "cell_type": "code",
   "execution_count": null,
   "metadata": {},
   "outputs": [],
   "source": [
    "import numpy as np\n",
    "import pandas as pd\n",
    "import matplotlib.pyplot as plt\n",
    "from tensorflow.keras.models import Sequential\n",
    "from tensorflow.keras.layers import Dense\n",
    "from tcn import TCN  # pip install keras-tcn\n",
    "from sklearn.model_selection import train_test_split\n",
    "from sklearn.preprocessing import StandardScaler"
   ]
  },
  {
   "cell_type": "code",
   "execution_count": null,
   "metadata": {},
   "outputs": [],
   "source": [
    "def load_data():\n",
    "    # Загружаем данные (замените путь на ваш реальный путь к файлам)\n",
    "    oil_prices = pd.read_csv(\"data/monthly_oil_cost_1988-2025.csv\")  # Датасет цен на нефть\n",
    "    oil_prices = oil_prices.drop(['Open', 'High', 'Low', 'Vol.', 'Change %'], axis=1)\n",
    "    freight_prices = pd.read_csv(\"data/freight_cost.csv\")  # Датасет цен на фрахт\n",
    "    freight_prices = freight_prices.drop(['Open', 'High', 'Low', 'Vol.', 'Change %'], axis=1)\n",
    "\n",
    "    # Преобразуем дату в формат datetime\n",
    "    oil_prices[\"Date\"] = pd.to_datetime(oil_prices[\"Date\"], format=\"%m/%d/%Y\")\n",
    "    freight_prices[\"Date\"] = pd.to_datetime(freight_prices[\"Date\"], format=\"%m/%d/%Y\")\n",
    "\n",
    "    # Объединяем два датасета по дате\n",
    "    df = pd.merge(oil_prices, freight_prices, on=\"Date\", suffixes=(\"_oil\", \"_freight\"))\n",
    "\n",
    "    # Добавляем лаговые признаки (цены на нефть и фрахт за месяц назад)\n",
    "    df[\"oil_price_lag1\"] = df[\"Price_oil\"].shift(1)\n",
    "    df[\"freight_price_lag1\"] = df[\"Price_freight\"].shift(1)\n",
    "\n",
    "    # Добавляем сезонность (номер месяца)\n",
    "    df[\"month\"] = df[\"Date\"].dt.month\n",
    "\n",
    "    # Удаляем строки с пропущенными значениями (из-за лагов)\n",
    "    df.dropna(inplace=True)\n",
    "    return df"
   ]
  },
  {
   "cell_type": "code",
   "execution_count": null,
   "metadata": {},
   "outputs": [],
   "source": [
    "def plot_residuals(y_true, y_pred):\n",
    "    residuals = y_true - y_pred\n",
    "    plt.figure(figsize=(12, 5))\n",
    "    plt.scatter(range(len(residuals)), residuals, color='purple', alpha=0.7)\n",
    "    plt.axhline(y=0, color='black', linestyle='dashed')\n",
    "    plt.xlabel(\"Index\")\n",
    "    plt.ylabel(\"Residuals\")\n",
    "    plt.title(\"Residual Plot\")\n",
    "    plt.show()"
   ]
  },
  {
   "cell_type": "code",
   "execution_count": null,
   "metadata": {},
   "outputs": [],
   "source": [
    "def plot_loss(history):\n",
    "    plt.figure(figsize=(12, 5))\n",
    "    plt.plot(history.history['loss'], label='Train Loss', color='blue')\n",
    "    plt.plot(history.history['val_loss'], label='Validation Loss', color='red', linestyle='dashed')\n",
    "    plt.xlabel(\"Epoch\")\n",
    "    plt.ylabel(\"Loss\")\n",
    "    plt.title(\"Training and Validation Loss\")\n",
    "    plt.legend()\n",
    "    plt.show()"
   ]
  },
  {
   "cell_type": "code",
   "execution_count": null,
   "metadata": {},
   "outputs": [],
   "source": [
    "df = load_data()\n",
    "df[\"Crisis\"] = (df[\"Date\"] >= pd.to_datetime(\"2008-01-01\")).astype(int) - 1\n",
    "df[\"Crisis_x_OilPrice\"] = df[\"Crisis\"] * df[\"Price_oil\"]\n",
    "df[\"Crisis_x_FreightPrice\"] = df[\"Crisis\"] * df[\"Price_freight\"]\n",
    "df[\"OilPrice_lag2\"] = df[\"Price_oil\"].shift(2)\n",
    "df[\"FreightPrice_lag2\"] = df[\"Price_freight\"].shift(2)\n",
    "df[\"Smoothed_OilPrice\"] = df[\"Price_oil\"].ewm(span=6, adjust=False).mean()\n",
    "df[\"Smoothed_FreightPrice\"] = df[\"Price_freight\"].ewm(span=6, adjust=False).mean()\n",
    "df[\"sin_month\"] = np.sin(2 * np.pi * df[\"Date\"].dt.month / 12)\n",
    "df[\"cos_month\"] = np.cos(2 * np.pi * df[\"Date\"].dt.month / 12)"
   ]
  },
  {
   "cell_type": "code",
   "execution_count": null,
   "metadata": {},
   "outputs": [],
   "source": [
    "# Добавляем лаги за 3 и 6 месяцев\n",
    "df[\"OilPrice_lag3\"] = df[\"Price_oil\"].shift(3)\n",
    "df[\"FreightPrice_lag3\"] = df[\"Price_freight\"].shift(3)\n",
    "df[\"OilPrice_lag6\"] = df[\"Price_oil\"].shift(6)\n",
    "df[\"FreightPrice_lag6\"] = df[\"Price_freight\"].shift(6)\n",
    "df.dropna(inplace=True)\n",
    "print(df.tail(12))"
   ]
  },
  {
   "cell_type": "code",
   "execution_count": null,
   "metadata": {},
   "outputs": [],
   "source": [
    "features = ['Price_oil', 'oil_price_lag1', 'freight_price_lag1', 'Crisis', 'Smoothed_OilPrice', 'Crisis_x_OilPrice', 'Crisis_x_FreightPrice',\n",
    "             'Smoothed_FreightPrice', 'sin_month', 'cos_month', 'OilPrice_lag3', 'FreightPrice_lag3', 'OilPrice_lag6', 'FreightPrice_lag6']\n",
    "target = 'Price_freight'\n",
    "\n",
    "X = df[features].values\n",
    "y = df[target].values"
   ]
  },
  {
   "cell_type": "code",
   "execution_count": null,
   "metadata": {},
   "outputs": [],
   "source": [
    "# Масштабируем данные\n",
    "scaler_X = StandardScaler()\n",
    "scaler_y = StandardScaler()\n",
    "X = scaler_X.fit_transform(X)\n",
    "y = scaler_y.fit_transform(y.reshape(-1, 1))"
   ]
  },
  {
   "cell_type": "code",
   "execution_count": null,
   "metadata": {},
   "outputs": [],
   "source": [
    "# Преобразуем в формат (samples, timesteps, features) для TCN\n",
    "X = X.reshape(X.shape[0], 1, X.shape[1])\n",
    "\n",
    "# Разделяем на обучающую и тестовую выборку\n",
    "X_train, X_test, y_train, y_test = train_test_split(X, y, test_size=0.1, shuffle=False)"
   ]
  },
  {
   "cell_type": "code",
   "execution_count": null,
   "metadata": {},
   "outputs": [],
   "source": [
    "# Создаём TCN модель\n",
    "model = Sequential([\n",
    "    TCN(input_shape=(1, X.shape[2]),\n",
    "        nb_filters=64, kernel_size=3, dilations=[1, 2, 4, 8],\n",
    "        return_sequences=False),\n",
    "    Dense(1)\n",
    "])\n",
    "\n",
    "model.compile(optimizer='adam', loss='mse')\n",
    "model.summary()"
   ]
  },
  {
   "cell_type": "code",
   "execution_count": null,
   "metadata": {},
   "outputs": [],
   "source": [
    "# Обучаем модель\n",
    "history = model.fit(X_train, y_train, epochs=100, batch_size=16, validation_data=(X_test, y_test))\n",
    "\n",
    "# Делаем предсказание\n",
    "predictions = model.predict(X_test)"
   ]
  },
  {
   "cell_type": "code",
   "execution_count": null,
   "metadata": {},
   "outputs": [],
   "source": [
    "# Обратно масштабируем\n",
    "predictions = scaler_y.inverse_transform(predictions)\n",
    "y_test_original = scaler_y.inverse_transform(y_test)"
   ]
  },
  {
   "cell_type": "code",
   "execution_count": null,
   "metadata": {},
   "outputs": [],
   "source": [
    "# Визуализируем прогноз\n",
    "plt.figure(figsize=(12, 5))\n",
    "plt.plot(y_test_original, label=\"Real Freight Price\", color='blue')\n",
    "plt.plot(predictions, label=\"Predicted Freight Price\", color='red', linestyle='dashed')\n",
    "plt.legend()\n",
    "plt.title(\"Freight Price Prediction using TCN\")\n",
    "plt.show()"
   ]
  },
  {
   "cell_type": "code",
   "execution_count": null,
   "metadata": {},
   "outputs": [],
   "source": [
    "# Вызов функции для визуализации остатков\n",
    "plot_residuals(y_test_original, predictions)\n",
    "plot_loss(history)"
   ]
  }
 ],
 "metadata": {
  "kernelspec": {
   "display_name": "Python 3",
   "language": "python",
   "name": "python3"
  },
  "language_info": {
   "codemirror_mode": {
    "name": "ipython",
    "version": 3
   },
   "file_extension": ".py",
   "mimetype": "text/x-python",
   "name": "python",
   "nbconvert_exporter": "python",
   "pygments_lexer": "ipython3",
   "version": "3.13.2"
  }
 },
 "nbformat": 4,
 "nbformat_minor": 2
}

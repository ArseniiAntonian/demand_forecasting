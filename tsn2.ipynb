{
 "cells": [
  {
   "cell_type": "code",
   "execution_count": 1,
   "metadata": {},
   "outputs": [
    {
     "ename": "ModuleNotFoundError",
     "evalue": "No module named 'statsmodels'",
     "output_type": "error",
     "traceback": [
      "\u001b[31m---------------------------------------------------------------------------\u001b[39m",
      "\u001b[31mModuleNotFoundError\u001b[39m                       Traceback (most recent call last)",
      "\u001b[36mCell\u001b[39m\u001b[36m \u001b[39m\u001b[32mIn[1]\u001b[39m\u001b[32m, line 4\u001b[39m\n\u001b[32m      2\u001b[39m \u001b[38;5;28;01mimport\u001b[39;00m\u001b[38;5;250m \u001b[39m\u001b[34;01mpandas\u001b[39;00m\u001b[38;5;250m \u001b[39m\u001b[38;5;28;01mas\u001b[39;00m\u001b[38;5;250m \u001b[39m\u001b[34;01mpd\u001b[39;00m\n\u001b[32m      3\u001b[39m \u001b[38;5;28;01mimport\u001b[39;00m\u001b[38;5;250m \u001b[39m\u001b[34;01mmatplotlib\u001b[39;00m\u001b[34;01m.\u001b[39;00m\u001b[34;01mpyplot\u001b[39;00m\u001b[38;5;250m \u001b[39m\u001b[38;5;28;01mas\u001b[39;00m\u001b[38;5;250m \u001b[39m\u001b[34;01mplt\u001b[39;00m\n\u001b[32m----> \u001b[39m\u001b[32m4\u001b[39m \u001b[38;5;28;01mfrom\u001b[39;00m\u001b[38;5;250m \u001b[39m\u001b[34;01mstatsmodels\u001b[39;00m\u001b[34;01m.\u001b[39;00m\u001b[34;01mtsa\u001b[39;00m\u001b[34;01m.\u001b[39;00m\u001b[34;01mseasonal\u001b[39;00m\u001b[38;5;250m \u001b[39m\u001b[38;5;28;01mimport\u001b[39;00m seasonal_decompose\n\u001b[32m      5\u001b[39m \u001b[38;5;28;01mfrom\u001b[39;00m\u001b[38;5;250m \u001b[39m\u001b[34;01mstatsmodels\u001b[39;00m\u001b[34;01m.\u001b[39;00m\u001b[34;01mgraphics\u001b[39;00m\u001b[34;01m.\u001b[39;00m\u001b[34;01mtsaplots\u001b[39;00m\u001b[38;5;250m \u001b[39m\u001b[38;5;28;01mimport\u001b[39;00m plot_acf, plot_pacf\n\u001b[32m      6\u001b[39m \u001b[38;5;28;01mfrom\u001b[39;00m\u001b[38;5;250m \u001b[39m\u001b[34;01mstatsmodels\u001b[39;00m\u001b[34;01m.\u001b[39;00m\u001b[34;01mtsa\u001b[39;00m\u001b[34;01m.\u001b[39;00m\u001b[34;01mstattools\u001b[39;00m\u001b[38;5;250m \u001b[39m\u001b[38;5;28;01mimport\u001b[39;00m adfuller\n",
      "\u001b[31mModuleNotFoundError\u001b[39m: No module named 'statsmodels'"
     ]
    }
   ],
   "source": [
    "import numpy as np\n",
    "import pandas as pd\n",
    "import matplotlib.pyplot as plt\n",
    "from statsmodels.tsa.seasonal import seasonal_decompose\n",
    "from statsmodels.graphics.tsaplots import plot_acf, plot_pacf\n",
    "from statsmodels.tsa.stattools import adfuller\n",
    "from statsmodels.tsa.vector_ar.vecm import coint_johansen\n",
    "from statsmodels.tsa.api import VAR"
   ]
  },
  {
   "cell_type": "code",
   "execution_count": 2,
   "metadata": {},
   "outputs": [],
   "source": [
    "def load_data(oil_data_path, freight_data_path):\n",
    "    \"\"\"Загружает и объединяет данные о нефти и фрахте.\"\"\"\n",
    "    oil_prices = pd.read_csv(oil_data_path, usecols=[\"Date\", \"Price\"])\n",
    "    freight_prices = pd.read_csv(freight_data_path, usecols=[\"Date\", \"Price\"])\n",
    "    \n",
    "    # Преобразуем столбцы\n",
    "    oil_prices[\"Price\"] = oil_prices[\"Price\"].astype(float)\n",
    "    freight_prices[\"Price\"] = freight_prices[\"Price\"].replace(',', '', regex=True).astype(float)\n",
    "    \n",
    "    # Конвертируем даты и сортируем\n",
    "    oil_prices[\"Date\"] = pd.to_datetime(oil_prices[\"Date\"], format=\"%m/%d/%Y\")\n",
    "    freight_prices[\"Date\"] = pd.to_datetime(freight_prices[\"Date\"], format=\"%m/%d/%Y\")\n",
    "    \n",
    "    # Объединяем по дате\n",
    "    df = pd.merge(freight_prices, oil_prices, on=\"Date\", suffixes=(\"_freight\", \"_oil\"))\n",
    "    df.sort_values(by=\"Date\", inplace=True)\n",
    "    df.set_index(\"Date\", inplace=True)\n",
    "    df.index.freq = 'MS'  # Указываем месячную частоту\n",
    "    \n",
    "    return df"
   ]
  },
  {
   "cell_type": "code",
   "execution_count": 3,
   "metadata": {},
   "outputs": [],
   "source": [
    "def check_stationarity(series):\n",
    "    \"\"\"Проверяет стационарность временного ряда с помощью ADF-теста.\"\"\"\n",
    "    adf_result = adfuller(series)\n",
    "    print(f\"Проверка стационарности: \\n{adf_result}\")\n",
    "    return adf_result[1] < 0.05 "
   ]
  },
  {
   "cell_type": "code",
   "execution_count": 4,
   "metadata": {},
   "outputs": [],
   "source": [
    "def preprocess_data(df, seasonal_lag=12):\n",
    "    \"\"\"Проверяет стационарность и делает сезонное и обычное дифференцирование, если нужно.\"\"\"\n",
    "    for column in df.columns:\n",
    "        if not check_stationarity(df[column]):\n",
    "            print(f\"diff lag 12 {column}\")\n",
    "            df[column] = df[column].diff(seasonal_lag)\n",
    "            df.dropna(inplace=True)  # Удаляем NaN\n",
    "            \n",
    "            if not check_stationarity(df[column]):\n",
    "                print(f\"diff lag 1 {column}\")\n",
    "                df.loc[:, column] = df[column].diff()  # Убираем тренд\n",
    "                df.dropna(inplace=True)  # Удаляем NaN снова\n",
    "\n",
    "    df.replace([np.inf, -np.inf], np.nan, inplace=True)  # На случай inf значений\n",
    "    df.dropna(inplace=True)  # Финальная очистка\n",
    "    return df"
   ]
  },
  {
   "cell_type": "code",
   "execution_count": 5,
   "metadata": {},
   "outputs": [],
   "source": [
    "def plot_decomposition(series, period=12):\n",
    "    \"\"\"Выполняет декомпозицию временного ряда и строит графики.\"\"\"\n",
    "    result = seasonal_decompose(series, model=\"additive\", period=period)\n",
    "    result.plot()\n",
    "    plt.show()"
   ]
  },
  {
   "cell_type": "code",
   "execution_count": 6,
   "metadata": {},
   "outputs": [],
   "source": [
    "def plot_acf_pacf(series):\n",
    "    \"\"\"Строит графики автокорреляции и частичной автокорреляции.\"\"\"\n",
    "    fig, axes = plt.subplots(1, 2, figsize=(12, 4))\n",
    "    plot_acf(series, ax=axes[0])\n",
    "    plot_pacf(series, ax=axes[1])\n",
    "    plt.show()"
   ]
  },
  {
   "cell_type": "code",
   "execution_count": 7,
   "metadata": {},
   "outputs": [],
   "source": [
    "def invert_differencing(original_series, differenced_series, interval=1):\n",
    "    \"\"\"Восстанавливает данные после дифференцирования.\"\"\"\n",
    "    inverted_series = differenced_series.copy()\n",
    "    \n",
    "    for i in range(interval, len(differenced_series)):\n",
    "        inverted_series.iloc[i] = differenced_series.iloc[i] + original_series.iloc[i - interval]\n",
    "    \n",
    "    return inverted_series"
   ]
  },
  {
   "cell_type": "code",
   "execution_count": 8,
   "metadata": {},
   "outputs": [],
   "source": [
    "class VARModel:\n",
    "    def __init__(self, df, train_size=0.8, p=2):\n",
    "        \"\"\"Инициализация модели VAR.\"\"\"\n",
    "        self.df = df\n",
    "        self.p = p\n",
    "        split_index = int(len(df) * train_size)\n",
    "        self.train_data, self.test_data = df.iloc[:split_index], df.iloc[split_index:]\n",
    "        self.model = None\n",
    "        self.results = None\n",
    "\n",
    "    def fit(self):\n",
    "        \"\"\"Обучает модель VAR.\"\"\"\n",
    "        self.model = VAR(self.train_data)\n",
    "        self.results = self.model.fit(self.p)\n",
    "        print(self.results.summary())\n",
    "\n",
    "    def forecast(self, steps=None):\n",
    "        \"\"\"Делает прогноз на тестовые данные.\"\"\"\n",
    "        if self.results is None:\n",
    "            raise ValueError(\"Сначала обучите модель с помощью fit().\")\n",
    "        if steps is None:\n",
    "            steps = len(self.test_data)\n",
    "        forecast_values = self.results.forecast(self.train_data.values[-self.p:], steps=steps)\n",
    "        return pd.DataFrame(forecast_values, index=self.test_data.index[:steps], columns=self.test_data.columns)\n",
    "\n",
    "    def plot_results(self, forecast_steps=None):\n",
    "        \"\"\"Строит график прогнозов, восстановленных в исходные значения.\"\"\"\n",
    "        if self.results is None:\n",
    "            raise ValueError(\"Сначала обучите модель с помощью fit().\")\n",
    "\n",
    "        if forecast_steps is None:\n",
    "            forecast_steps = len(self.test_data)\n",
    "\n",
    "        # Делаем прогноз\n",
    "        forecast_df = self.forecast(forecast_steps)\n",
    "\n",
    "        # Восстанавливаем предсказанные и тестовые значения\n",
    "        forecast_df[\"Price_freight\"] = invert_differencing(self.train_data[\"Price_freight\"], forecast_df[\"Price_freight\"], interval=12)\n",
    "        # print(forecast_df.head(12))\n",
    "        test_data_restored = invert_differencing(self.train_data[\"Price_freight\"], self.test_data[\"Price_freight\"], interval=12)\n",
    "\n",
    "        # Убираем NaN после восстановления\n",
    "        forecast_df.dropna(inplace=True)\n",
    "        test_data_restored.dropna(inplace=True)\n",
    "\n",
    "        # График\n",
    "        plt.figure(figsize=(12, 6))\n",
    "        plt.plot(self.train_data.index, self.train_data[\"Price_freight\"], label=\"Train Data\", color='blue')\n",
    "        plt.plot(test_data_restored.index, test_data_restored, label=\"Test Data\", color='green')\n",
    "        plt.plot(forecast_df.index, forecast_df[\"Price_freight\"], label=\"Forecast\", linestyle=\"dashed\", color='red')\n",
    "        \n",
    "        plt.xlabel(\"Date\")\n",
    "        plt.ylabel(\"Freight Price\")\n",
    "        plt.title(\"VAR Forecast vs. Actual Data (Restored Scale)\")\n",
    "        plt.legend()\n",
    "        plt.show()"
   ]
  },
  {
   "cell_type": "code",
   "execution_count": 9,
   "metadata": {},
   "outputs": [
    {
     "data": {
      "text/html": [
       "<div>\n",
       "<style scoped>\n",
       "    .dataframe tbody tr th:only-of-type {\n",
       "        vertical-align: middle;\n",
       "    }\n",
       "\n",
       "    .dataframe tbody tr th {\n",
       "        vertical-align: top;\n",
       "    }\n",
       "\n",
       "    .dataframe thead th {\n",
       "        text-align: right;\n",
       "    }\n",
       "</style>\n",
       "<table border=\"1\" class=\"dataframe\">\n",
       "  <thead>\n",
       "    <tr style=\"text-align: right;\">\n",
       "      <th></th>\n",
       "      <th>Price_freight</th>\n",
       "      <th>Price_oil</th>\n",
       "    </tr>\n",
       "    <tr>\n",
       "      <th>Date</th>\n",
       "      <th></th>\n",
       "      <th></th>\n",
       "    </tr>\n",
       "  </thead>\n",
       "  <tbody>\n",
       "    <tr>\n",
       "      <th>2002-06-01</th>\n",
       "      <td>733.0</td>\n",
       "      <td>25.58</td>\n",
       "    </tr>\n",
       "    <tr>\n",
       "      <th>2002-07-01</th>\n",
       "      <td>742.0</td>\n",
       "      <td>25.44</td>\n",
       "    </tr>\n",
       "    <tr>\n",
       "      <th>2002-08-01</th>\n",
       "      <td>728.0</td>\n",
       "      <td>27.47</td>\n",
       "    </tr>\n",
       "  </tbody>\n",
       "</table>\n",
       "</div>"
      ],
      "text/plain": [
       "            Price_freight  Price_oil\n",
       "Date                                \n",
       "2002-06-01          733.0      25.58\n",
       "2002-07-01          742.0      25.44\n",
       "2002-08-01          728.0      27.47"
      ]
     },
     "execution_count": 9,
     "metadata": {},
     "output_type": "execute_result"
    }
   ],
   "source": [
    "df = load_data(\"data/monthly_oil_cost_1988-2025.csv\", \"data/cleanFreight.csv\")\n",
    "df.head(3)"
   ]
  },
  {
   "cell_type": "code",
   "execution_count": 10,
   "metadata": {},
   "outputs": [
    {
     "ename": "NameError",
     "evalue": "name 'adfuller' is not defined",
     "output_type": "error",
     "traceback": [
      "\u001b[31m---------------------------------------------------------------------------\u001b[39m",
      "\u001b[31mNameError\u001b[39m                                 Traceback (most recent call last)",
      "\u001b[36mCell\u001b[39m\u001b[36m \u001b[39m\u001b[32mIn[10]\u001b[39m\u001b[32m, line 1\u001b[39m\n\u001b[32m----> \u001b[39m\u001b[32m1\u001b[39m df = \u001b[43mpreprocess_data\u001b[49m\u001b[43m(\u001b[49m\u001b[43mdf\u001b[49m\u001b[43m)\u001b[49m\n",
      "\u001b[36mCell\u001b[39m\u001b[36m \u001b[39m\u001b[32mIn[4]\u001b[39m\u001b[32m, line 4\u001b[39m, in \u001b[36mpreprocess_data\u001b[39m\u001b[34m(df, seasonal_lag)\u001b[39m\n\u001b[32m      2\u001b[39m \u001b[38;5;250m\u001b[39m\u001b[33;03m\"\"\"Проверяет стационарность и делает сезонное и обычное дифференцирование, если нужно.\"\"\"\u001b[39;00m\n\u001b[32m      3\u001b[39m \u001b[38;5;28;01mfor\u001b[39;00m column \u001b[38;5;129;01min\u001b[39;00m df.columns:\n\u001b[32m----> \u001b[39m\u001b[32m4\u001b[39m     \u001b[38;5;28;01mif\u001b[39;00m \u001b[38;5;129;01mnot\u001b[39;00m \u001b[43mcheck_stationarity\u001b[49m\u001b[43m(\u001b[49m\u001b[43mdf\u001b[49m\u001b[43m[\u001b[49m\u001b[43mcolumn\u001b[49m\u001b[43m]\u001b[49m\u001b[43m)\u001b[49m:\n\u001b[32m      5\u001b[39m         \u001b[38;5;28mprint\u001b[39m(\u001b[33mf\u001b[39m\u001b[33m\"\u001b[39m\u001b[33mdiff lag 12 \u001b[39m\u001b[38;5;132;01m{\u001b[39;00mcolumn\u001b[38;5;132;01m}\u001b[39;00m\u001b[33m\"\u001b[39m)\n\u001b[32m      6\u001b[39m         df[column] = df[column].diff(seasonal_lag)\n",
      "\u001b[36mCell\u001b[39m\u001b[36m \u001b[39m\u001b[32mIn[3]\u001b[39m\u001b[32m, line 3\u001b[39m, in \u001b[36mcheck_stationarity\u001b[39m\u001b[34m(series)\u001b[39m\n\u001b[32m      1\u001b[39m \u001b[38;5;28;01mdef\u001b[39;00m\u001b[38;5;250m \u001b[39m\u001b[34mcheck_stationarity\u001b[39m(series):\n\u001b[32m      2\u001b[39m \u001b[38;5;250m    \u001b[39m\u001b[33;03m\"\"\"Проверяет стационарность временного ряда с помощью ADF-теста.\"\"\"\u001b[39;00m\n\u001b[32m----> \u001b[39m\u001b[32m3\u001b[39m     adf_result = \u001b[43madfuller\u001b[49m(series)\n\u001b[32m      4\u001b[39m     \u001b[38;5;28mprint\u001b[39m(\u001b[33mf\u001b[39m\u001b[33m\"\u001b[39m\u001b[33mПроверка стационарности: \u001b[39m\u001b[38;5;130;01m\\n\u001b[39;00m\u001b[38;5;132;01m{\u001b[39;00madf_result\u001b[38;5;132;01m}\u001b[39;00m\u001b[33m\"\u001b[39m)\n\u001b[32m      5\u001b[39m     \u001b[38;5;28;01mreturn\u001b[39;00m adf_result[\u001b[32m1\u001b[39m] < \u001b[32m0.05\u001b[39m\n",
      "\u001b[31mNameError\u001b[39m: name 'adfuller' is not defined"
     ]
    }
   ],
   "source": [
    "df = preprocess_data(df)"
   ]
  },
  {
   "cell_type": "code",
   "execution_count": null,
   "metadata": {},
   "outputs": [],
   "source": [
    "plt.figure(figsize=(12, 6))\n",
    "plt.plot(df.index, df['Price_freight'], label=\"Преобразованный фрахт\", color='green')\n",
    "plt.plot(df.index, df['Price_oil'], label=\"Преобразованная нефть\", color='blue')"
   ]
  },
  {
   "cell_type": "code",
   "execution_count": null,
   "metadata": {},
   "outputs": [],
   "source": [
    "plt.xlabel(\"Date\")\n",
    "plt.ylabel(\"Freight Price\")\n",
    "plt.title(\"VAR Forecast vs. Actual Data (Restored Scale)\")\n",
    "plt.legend()\n",
    "plt.show()\n",
    "model = VARModel(df, train_size=0.9)\n",
    "model.fit()\n",
    "model.plot_results()"
   ]
  }
 ],
 "metadata": {
  "kernelspec": {
   "display_name": "Python 3",
   "language": "python",
   "name": "python3"
  },
  "language_info": {
   "codemirror_mode": {
    "name": "ipython",
    "version": 3
   },
   "file_extension": ".py",
   "mimetype": "text/x-python",
   "name": "python",
   "nbconvert_exporter": "python",
   "pygments_lexer": "ipython3",
   "version": "3.13.2"
  }
 },
 "nbformat": 4,
 "nbformat_minor": 2
}
